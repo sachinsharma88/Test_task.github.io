{
 "cells": [
  {
   "cell_type": "code",
   "execution_count": 2,
   "id": "7dae1495-06f4-4710-8109-6f82f837b3ca",
   "metadata": {},
   "outputs": [],
   "source": [
    "import numpy as np \n",
    "import pandas as pd \n",
    "import seaborn as sn\n",
    "import matplotlib.pyplot as plt\n",
    "%matplotlib inline \n"
   ]
  },
  {
   "cell_type": "code",
   "execution_count": 3,
   "id": "2c27b6f4-9bd1-41dd-b419-9d48cc5ae3ce",
   "metadata": {},
   "outputs": [],
   "source": [
    "data = pd.read_excel(\"C:/Users/Computer/Downloads/Data_Analyst_Task/test_task.xlsx\")\n"
   ]
  },
  {
   "cell_type": "code",
   "execution_count": 4,
   "id": "3b5c3298-b3b9-4749-af35-e04686dff32a",
   "metadata": {},
   "outputs": [
    {
     "data": {
      "text/plain": [
       "(6448, 3)"
      ]
     },
     "execution_count": 4,
     "metadata": {},
     "output_type": "execute_result"
    }
   ],
   "source": [
    "data.shape"
   ]
  },
  {
   "cell_type": "code",
   "execution_count": 5,
   "id": "c40dd339-d079-4f0f-85bc-eb4d379349e5",
   "metadata": {},
   "outputs": [
    {
     "data": {
      "text/html": [
       "<div>\n",
       "<style scoped>\n",
       "    .dataframe tbody tr th:only-of-type {\n",
       "        vertical-align: middle;\n",
       "    }\n",
       "\n",
       "    .dataframe tbody tr th {\n",
       "        vertical-align: top;\n",
       "    }\n",
       "\n",
       "    .dataframe thead th {\n",
       "        text-align: right;\n",
       "    }\n",
       "</style>\n",
       "<table border=\"1\" class=\"dataframe\">\n",
       "  <thead>\n",
       "    <tr style=\"text-align: right;\">\n",
       "      <th></th>\n",
       "      <th>Review</th>\n",
       "      <th>date</th>\n",
       "      <th>Location</th>\n",
       "    </tr>\n",
       "  </thead>\n",
       "  <tbody>\n",
       "    <tr>\n",
       "      <th>0</th>\n",
       "      <td>I was very impressed with the resort.\\nGreat s...</td>\n",
       "      <td>2019-08-20</td>\n",
       "      <td>Sebastian</td>\n",
       "    </tr>\n",
       "    <tr>\n",
       "      <th>1</th>\n",
       "      <td>The rooms were nice the outside needs work als...</td>\n",
       "      <td>2019-08-20</td>\n",
       "      <td>Los Angeles</td>\n",
       "    </tr>\n",
       "    <tr>\n",
       "      <th>2</th>\n",
       "      <td>Great location! I have stayed at this hotel on...</td>\n",
       "      <td>2019-08-20</td>\n",
       "      <td>Georgia</td>\n",
       "    </tr>\n",
       "    <tr>\n",
       "      <th>3</th>\n",
       "      <td>The hotel was adequate for my stay. The strips...</td>\n",
       "      <td>2019-08-20</td>\n",
       "      <td>NaN</td>\n",
       "    </tr>\n",
       "    <tr>\n",
       "      <th>4</th>\n",
       "      <td>Great location, room was large and spacious. P...</td>\n",
       "      <td>2019-08-19</td>\n",
       "      <td>Palm Harbor</td>\n",
       "    </tr>\n",
       "    <tr>\n",
       "      <th>5</th>\n",
       "      <td>All the options for fun were great! Do wish th...</td>\n",
       "      <td>2019-08-19</td>\n",
       "      <td>NaN</td>\n",
       "    </tr>\n",
       "    <tr>\n",
       "      <th>6</th>\n",
       "      <td>Old. Musty. Motel. \\nBath need an update asap\\...</td>\n",
       "      <td>2019-08-19</td>\n",
       "      <td>NaN</td>\n",
       "    </tr>\n",
       "    <tr>\n",
       "      <th>7</th>\n",
       "      <td>Loved the layout of the hotel and the relaxing...</td>\n",
       "      <td>2019-08-19</td>\n",
       "      <td>NaN</td>\n",
       "    </tr>\n",
       "    <tr>\n",
       "      <th>8</th>\n",
       "      <td>My wife and I loved everything about it. It’s ...</td>\n",
       "      <td>2019-08-19</td>\n",
       "      <td>NaN</td>\n",
       "    </tr>\n",
       "    <tr>\n",
       "      <th>9</th>\n",
       "      <td>rooms were very small, was told i had a compli...</td>\n",
       "      <td>2019-08-19</td>\n",
       "      <td>NaN</td>\n",
       "    </tr>\n",
       "  </tbody>\n",
       "</table>\n",
       "</div>"
      ],
      "text/plain": [
       "                                              Review       date     Location\n",
       "0  I was very impressed with the resort.\\nGreat s... 2019-08-20    Sebastian\n",
       "1  The rooms were nice the outside needs work als... 2019-08-20  Los Angeles\n",
       "2  Great location! I have stayed at this hotel on... 2019-08-20      Georgia\n",
       "3  The hotel was adequate for my stay. The strips... 2019-08-20          NaN\n",
       "4  Great location, room was large and spacious. P... 2019-08-19  Palm Harbor\n",
       "5  All the options for fun were great! Do wish th... 2019-08-19          NaN\n",
       "6  Old. Musty. Motel. \\nBath need an update asap\\... 2019-08-19          NaN\n",
       "7  Loved the layout of the hotel and the relaxing... 2019-08-19          NaN\n",
       "8  My wife and I loved everything about it. It’s ... 2019-08-19          NaN\n",
       "9  rooms were very small, was told i had a compli... 2019-08-19          NaN"
      ]
     },
     "execution_count": 5,
     "metadata": {},
     "output_type": "execute_result"
    }
   ],
   "source": [
    "data.head(10)\n"
   ]
  },
  {
   "cell_type": "code",
   "execution_count": 6,
   "id": "17454a36-4827-4200-a624-cecc4377fb18",
   "metadata": {},
   "outputs": [
    {
     "data": {
      "text/plain": [
       "Review        55\n",
       "date           0\n",
       "Location    4737\n",
       "dtype: int64"
      ]
     },
     "execution_count": 6,
     "metadata": {},
     "output_type": "execute_result"
    }
   ],
   "source": [
    "pd.isnull(data).sum()"
   ]
  },
  {
   "cell_type": "code",
   "execution_count": 10,
   "id": "872c6049-3176-44cb-b9f4-183a00fa62d1",
   "metadata": {},
   "outputs": [],
   "source": [
    "# as we can see there are 4737 null values in location coulmn but we are note dropping that because it a huge no.\n"
   ]
  },
  {
   "cell_type": "code",
   "execution_count": 29,
   "id": "6b6d1279-96f0-49c8-91ef-c2637d74a1e0",
   "metadata": {},
   "outputs": [
    {
     "data": {
      "text/html": [
       "<div>\n",
       "<style scoped>\n",
       "    .dataframe tbody tr th:only-of-type {\n",
       "        vertical-align: middle;\n",
       "    }\n",
       "\n",
       "    .dataframe tbody tr th {\n",
       "        vertical-align: top;\n",
       "    }\n",
       "\n",
       "    .dataframe thead th {\n",
       "        text-align: right;\n",
       "    }\n",
       "</style>\n",
       "<table border=\"1\" class=\"dataframe\">\n",
       "  <thead>\n",
       "    <tr style=\"text-align: right;\">\n",
       "      <th></th>\n",
       "      <th>date</th>\n",
       "    </tr>\n",
       "  </thead>\n",
       "  <tbody>\n",
       "    <tr>\n",
       "      <th>count</th>\n",
       "      <td>6448</td>\n",
       "    </tr>\n",
       "    <tr>\n",
       "      <th>mean</th>\n",
       "      <td>2019-02-06 15:55:09.677419264</td>\n",
       "    </tr>\n",
       "    <tr>\n",
       "      <th>min</th>\n",
       "      <td>2018-08-01 00:00:00</td>\n",
       "    </tr>\n",
       "    <tr>\n",
       "      <th>25%</th>\n",
       "      <td>2018-11-10 00:00:00</td>\n",
       "    </tr>\n",
       "    <tr>\n",
       "      <th>50%</th>\n",
       "      <td>2019-02-04 00:00:00</td>\n",
       "    </tr>\n",
       "    <tr>\n",
       "      <th>75%</th>\n",
       "      <td>2019-05-01 00:00:00</td>\n",
       "    </tr>\n",
       "    <tr>\n",
       "      <th>max</th>\n",
       "      <td>2019-08-20 00:00:00</td>\n",
       "    </tr>\n",
       "  </tbody>\n",
       "</table>\n",
       "</div>"
      ],
      "text/plain": [
       "                                date\n",
       "count                           6448\n",
       "mean   2019-02-06 15:55:09.677419264\n",
       "min              2018-08-01 00:00:00\n",
       "25%              2018-11-10 00:00:00\n",
       "50%              2019-02-04 00:00:00\n",
       "75%              2019-05-01 00:00:00\n",
       "max              2019-08-20 00:00:00"
      ]
     },
     "execution_count": 29,
     "metadata": {},
     "output_type": "execute_result"
    }
   ],
   "source": [
    "data.describe()"
   ]
  },
  {
   "cell_type": "code",
   "execution_count": 20,
   "id": "e68b1a3c-1c90-4349-b368-a9e571579614",
   "metadata": {},
   "outputs": [],
   "source": [
    "# Clean the 'Review' column\n",
    "data['Review'] = data['Review'].str.strip()"
   ]
  },
  {
   "cell_type": "code",
   "execution_count": 21,
   "id": "8ff359b5-805d-4bd5-bf7e-e828a38944e8",
   "metadata": {},
   "outputs": [],
   "source": [
    "#extract insights"
   ]
  },
  {
   "cell_type": "code",
   "execution_count": 22,
   "id": "a9358115-e515-4529-af37-7e612673f050",
   "metadata": {},
   "outputs": [],
   "source": [
    "#Insight 1\n",
    "positive_reviews = data[data['Review'].str.contains('great staff|friendly staff|great location', case=False, na=False)]\n",
    "insight_1 = f\"Number of positive reviews about staff and location: {len(positive_reviews)}\"\n"
   ]
  },
  {
   "cell_type": "code",
   "execution_count": 23,
   "id": "13282fa8-7ac0-4146-82ed-f62b87fe007e",
   "metadata": {},
   "outputs": [],
   "source": [
    "#Insight 2\n",
    "maintenance_issues = data[data['Review'].str.contains('needs work|maintenance|unresponsive|update', case=False, na=False)]\n",
    "insight_2 = f\"Number of complaints about maintenance issues: {len(maintenance_issues)}\"\n",
    "\n"
   ]
  },
  {
   "cell_type": "code",
   "execution_count": 24,
   "id": "44c1df95-0183-4c1b-86d8-82075f837279",
   "metadata": {},
   "outputs": [],
   "source": [
    "#Insight 3\n",
    "breakfast_comments = data[data['Review'].str.contains('breakfast', case=False, na=False)]\n",
    "insight_3 = f\"Number of comments about breakfast (positive or negative): {len(breakfast_comments)}\"\n",
    "\n"
   ]
  },
  {
   "cell_type": "code",
   "execution_count": 25,
   "id": "f49703ee-c77d-4ab2-806f-30550b757cac",
   "metadata": {},
   "outputs": [],
   "source": [
    "#Insight 4\n",
    "noise_issues = data[data['Review'].str.contains('noise|disturbance|loud', case=False, na=False)]\n",
    "insight_4 = f\"Number of reviews mentioning noise and disturbance issues: {len(noise_issues)}\"\n",
    "\n"
   ]
  },
  {
   "cell_type": "code",
   "execution_count": 26,
   "id": "b01fca68-7b09-41f0-912b-4501386bd282",
   "metadata": {},
   "outputs": [],
   "source": [
    "#Insight 5\n",
    "positive_sentiments = data[data['Review'].str.contains('impressed|nice|great|good|loved|fun', case=False, na=False)]\n",
    "negative_sentiments = data[data['Review'].str.contains('work|no|poor|old|musty|bad', case=False, na=False)]\n",
    "insight_5 = f\"Number of overall positive reviews: {len(positive_sentiments)}, Number of overall negative reviews: {len(negative_sentiments)}\""
   ]
  },
  {
   "cell_type": "code",
   "execution_count": 27,
   "id": "91871511-eaa1-41b1-89d7-4169c8e45f24",
   "metadata": {},
   "outputs": [],
   "source": [
    "# Now print all the Insights"
   ]
  },
  {
   "cell_type": "code",
   "execution_count": 28,
   "id": "fdd92a81-896f-459e-8a00-7170ce5fdfed",
   "metadata": {},
   "outputs": [
    {
     "name": "stdout",
     "output_type": "stream",
     "text": [
      "Number of positive reviews about staff and location: 520\n",
      "Number of complaints about maintenance issues: 173\n",
      "Number of comments about breakfast (positive or negative): 365\n",
      "Number of reviews mentioning noise and disturbance issues: 222\n",
      "Number of overall positive reviews: 3018, Number of overall negative reviews: 2911\n"
     ]
    }
   ],
   "source": [
    "insights = [insight_1, insight_2, insight_3, insight_4, insight_5]\n",
    "for insight in insights:\n",
    "    print(insight)"
   ]
  },
  {
   "cell_type": "code",
   "execution_count": null,
   "id": "cbe772a1-13bb-4323-b16c-1c7b6ddd481d",
   "metadata": {},
   "outputs": [],
   "source": []
  }
 ],
 "metadata": {
  "kernelspec": {
   "display_name": "Python 3 (ipykernel)",
   "language": "python",
   "name": "python3"
  },
  "language_info": {
   "codemirror_mode": {
    "name": "ipython",
    "version": 3
   },
   "file_extension": ".py",
   "mimetype": "text/x-python",
   "name": "python",
   "nbconvert_exporter": "python",
   "pygments_lexer": "ipython3",
   "version": "3.12.4"
  }
 },
 "nbformat": 4,
 "nbformat_minor": 5
}
